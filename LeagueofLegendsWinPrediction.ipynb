{
  "nbformat": 4,
  "nbformat_minor": 0,
  "metadata": {
    "colab": {
      "name": "LeagueofLegendsWinPrediction.ipynb",
      "provenance": [],
      "collapsed_sections": [],
      "mount_file_id": "1PF1SJSRQ5mrLD5SZMrGzbbkXST7H1Xts",
      "authorship_tag": "ABX9TyOcfDiHNuelyKqTWa1q0c+e",
      "include_colab_link": true
    },
    "kernelspec": {
      "name": "python3",
      "display_name": "Python 3"
    }
  },
  "cells": [
    {
      "cell_type": "markdown",
      "metadata": {
        "id": "view-in-github",
        "colab_type": "text"
      },
      "source": [
        "<a href=\"https://colab.research.google.com/github/AReyH/league_of_legends_win_prediction/blob/main/LeagueofLegendsWinPrediction.ipynb\" target=\"_parent\"><img src=\"https://colab.research.google.com/assets/colab-badge.svg\" alt=\"Open In Colab\"/></a>"
      ]
    },
    {
      "cell_type": "code",
      "metadata": {
        "id": "MdsRiVJTeC5U"
      },
      "source": [
        "import os\r\n",
        "os.environ['KAGGLE_CONFIG_DIR'] = '/content/drive/MyDrive/'"
      ],
      "execution_count": 1,
      "outputs": []
    },
    {
      "cell_type": "code",
      "metadata": {
        "colab": {
          "base_uri": "https://localhost:8080/"
        },
        "id": "idwTHL5YeC0S",
        "outputId": "8bcbeabd-8cd0-48fd-8195-e468c8d7fc5d"
      },
      "source": [
        "!kaggle datasets download -d bobbyscience/league-of-legends-diamond-ranked-games-10-min"
      ],
      "execution_count": 2,
      "outputs": [
        {
          "output_type": "stream",
          "text": [
            "Downloading league-of-legends-diamond-ranked-games-10-min.zip to /content\n",
            "\r  0% 0.00/539k [00:00<?, ?B/s]\n",
            "\r100% 539k/539k [00:00<00:00, 35.7MB/s]\n"
          ],
          "name": "stdout"
        }
      ]
    },
    {
      "cell_type": "code",
      "metadata": {
        "colab": {
          "base_uri": "https://localhost:8080/"
        },
        "id": "4kId1ZwFd5Uo",
        "outputId": "19560b15-a6ed-49db-d38c-b553ab5301db"
      },
      "source": [
        "!unzip \\*.zip && rm *.zip"
      ],
      "execution_count": 3,
      "outputs": [
        {
          "output_type": "stream",
          "text": [
            "Archive:  league-of-legends-diamond-ranked-games-10-min.zip\n",
            "  inflating: high_diamond_ranked_10min.csv  \n"
          ],
          "name": "stdout"
        }
      ]
    },
    {
      "cell_type": "code",
      "metadata": {
        "id": "YSYQ7XoweXQw"
      },
      "source": [
        "import pandas as pd\n",
        "import numpy as np\n",
        "\n",
        "import matplotlib.pyplot as plt\n",
        "import seaborn as sns\n",
        "\n",
        "import tensorflow as tf\n",
        "\n",
        "from sklearn.model_selection import train_test_split, GridSearchCV\n",
        "from sklearn.preprocessing import StandardScaler"
      ],
      "execution_count": 4,
      "outputs": []
    },
    {
      "cell_type": "code",
      "metadata": {
        "id": "7QcFRUK7RNEI"
      },
      "source": [
        "df = pd.read_csv('high_diamond_ranked_10min.csv')"
      ],
      "execution_count": 5,
      "outputs": []
    },
    {
      "cell_type": "code",
      "metadata": {
        "id": "pgGfpXr3mtDZ"
      },
      "source": [
        "df = pd.read_csv('https://raw.githubusercontent.com/AReyH/LoL_Dataset/master/high_diamond_ranked_10min.csv')"
      ],
      "execution_count": 6,
      "outputs": []
    },
    {
      "cell_type": "code",
      "metadata": {
        "colab": {
          "base_uri": "https://localhost:8080/",
          "height": 411
        },
        "id": "Y6p6smcumyYe",
        "outputId": "e65505af-2ee2-4569-e37a-3321dea98788"
      },
      "source": [
        "df"
      ],
      "execution_count": 7,
      "outputs": [
        {
          "output_type": "execute_result",
          "data": {
            "text/html": [
              "<div>\n",
              "<style scoped>\n",
              "    .dataframe tbody tr th:only-of-type {\n",
              "        vertical-align: middle;\n",
              "    }\n",
              "\n",
              "    .dataframe tbody tr th {\n",
              "        vertical-align: top;\n",
              "    }\n",
              "\n",
              "    .dataframe thead th {\n",
              "        text-align: right;\n",
              "    }\n",
              "</style>\n",
              "<table border=\"1\" class=\"dataframe\">\n",
              "  <thead>\n",
              "    <tr style=\"text-align: right;\">\n",
              "      <th></th>\n",
              "      <th>gameId</th>\n",
              "      <th>blueWins</th>\n",
              "      <th>blueWardsPlaced</th>\n",
              "      <th>blueWardsDestroyed</th>\n",
              "      <th>blueFirstBlood</th>\n",
              "      <th>blueKills</th>\n",
              "      <th>blueDeaths</th>\n",
              "      <th>blueAssists</th>\n",
              "      <th>blueEliteMonsters</th>\n",
              "      <th>blueDragons</th>\n",
              "      <th>blueHeralds</th>\n",
              "      <th>blueTowersDestroyed</th>\n",
              "      <th>blueTotalGold</th>\n",
              "      <th>blueAvgLevel</th>\n",
              "      <th>blueTotalExperience</th>\n",
              "      <th>blueTotalMinionsKilled</th>\n",
              "      <th>blueTotalJungleMinionsKilled</th>\n",
              "      <th>blueGoldDiff</th>\n",
              "      <th>blueExperienceDiff</th>\n",
              "      <th>blueCSPerMin</th>\n",
              "      <th>blueGoldPerMin</th>\n",
              "      <th>redWardsPlaced</th>\n",
              "      <th>redWardsDestroyed</th>\n",
              "      <th>redFirstBlood</th>\n",
              "      <th>redKills</th>\n",
              "      <th>redDeaths</th>\n",
              "      <th>redAssists</th>\n",
              "      <th>redEliteMonsters</th>\n",
              "      <th>redDragons</th>\n",
              "      <th>redHeralds</th>\n",
              "      <th>redTowersDestroyed</th>\n",
              "      <th>redTotalGold</th>\n",
              "      <th>redAvgLevel</th>\n",
              "      <th>redTotalExperience</th>\n",
              "      <th>redTotalMinionsKilled</th>\n",
              "      <th>redTotalJungleMinionsKilled</th>\n",
              "      <th>redGoldDiff</th>\n",
              "      <th>redExperienceDiff</th>\n",
              "      <th>redCSPerMin</th>\n",
              "      <th>redGoldPerMin</th>\n",
              "    </tr>\n",
              "  </thead>\n",
              "  <tbody>\n",
              "    <tr>\n",
              "      <th>0</th>\n",
              "      <td>4519157822</td>\n",
              "      <td>0</td>\n",
              "      <td>28</td>\n",
              "      <td>2</td>\n",
              "      <td>1</td>\n",
              "      <td>9</td>\n",
              "      <td>6</td>\n",
              "      <td>11</td>\n",
              "      <td>0</td>\n",
              "      <td>0</td>\n",
              "      <td>0</td>\n",
              "      <td>0</td>\n",
              "      <td>17210</td>\n",
              "      <td>6.6</td>\n",
              "      <td>17039</td>\n",
              "      <td>195</td>\n",
              "      <td>36</td>\n",
              "      <td>643</td>\n",
              "      <td>-8</td>\n",
              "      <td>19.5</td>\n",
              "      <td>1721.0</td>\n",
              "      <td>15</td>\n",
              "      <td>6</td>\n",
              "      <td>0</td>\n",
              "      <td>6</td>\n",
              "      <td>9</td>\n",
              "      <td>8</td>\n",
              "      <td>0</td>\n",
              "      <td>0</td>\n",
              "      <td>0</td>\n",
              "      <td>0</td>\n",
              "      <td>16567</td>\n",
              "      <td>6.8</td>\n",
              "      <td>17047</td>\n",
              "      <td>197</td>\n",
              "      <td>55</td>\n",
              "      <td>-643</td>\n",
              "      <td>8</td>\n",
              "      <td>19.7</td>\n",
              "      <td>1656.7</td>\n",
              "    </tr>\n",
              "    <tr>\n",
              "      <th>1</th>\n",
              "      <td>4523371949</td>\n",
              "      <td>0</td>\n",
              "      <td>12</td>\n",
              "      <td>1</td>\n",
              "      <td>0</td>\n",
              "      <td>5</td>\n",
              "      <td>5</td>\n",
              "      <td>5</td>\n",
              "      <td>0</td>\n",
              "      <td>0</td>\n",
              "      <td>0</td>\n",
              "      <td>0</td>\n",
              "      <td>14712</td>\n",
              "      <td>6.6</td>\n",
              "      <td>16265</td>\n",
              "      <td>174</td>\n",
              "      <td>43</td>\n",
              "      <td>-2908</td>\n",
              "      <td>-1173</td>\n",
              "      <td>17.4</td>\n",
              "      <td>1471.2</td>\n",
              "      <td>12</td>\n",
              "      <td>1</td>\n",
              "      <td>1</td>\n",
              "      <td>5</td>\n",
              "      <td>5</td>\n",
              "      <td>2</td>\n",
              "      <td>2</td>\n",
              "      <td>1</td>\n",
              "      <td>1</td>\n",
              "      <td>1</td>\n",
              "      <td>17620</td>\n",
              "      <td>6.8</td>\n",
              "      <td>17438</td>\n",
              "      <td>240</td>\n",
              "      <td>52</td>\n",
              "      <td>2908</td>\n",
              "      <td>1173</td>\n",
              "      <td>24.0</td>\n",
              "      <td>1762.0</td>\n",
              "    </tr>\n",
              "    <tr>\n",
              "      <th>2</th>\n",
              "      <td>4521474530</td>\n",
              "      <td>0</td>\n",
              "      <td>15</td>\n",
              "      <td>0</td>\n",
              "      <td>0</td>\n",
              "      <td>7</td>\n",
              "      <td>11</td>\n",
              "      <td>4</td>\n",
              "      <td>1</td>\n",
              "      <td>1</td>\n",
              "      <td>0</td>\n",
              "      <td>0</td>\n",
              "      <td>16113</td>\n",
              "      <td>6.4</td>\n",
              "      <td>16221</td>\n",
              "      <td>186</td>\n",
              "      <td>46</td>\n",
              "      <td>-1172</td>\n",
              "      <td>-1033</td>\n",
              "      <td>18.6</td>\n",
              "      <td>1611.3</td>\n",
              "      <td>15</td>\n",
              "      <td>3</td>\n",
              "      <td>1</td>\n",
              "      <td>11</td>\n",
              "      <td>7</td>\n",
              "      <td>14</td>\n",
              "      <td>0</td>\n",
              "      <td>0</td>\n",
              "      <td>0</td>\n",
              "      <td>0</td>\n",
              "      <td>17285</td>\n",
              "      <td>6.8</td>\n",
              "      <td>17254</td>\n",
              "      <td>203</td>\n",
              "      <td>28</td>\n",
              "      <td>1172</td>\n",
              "      <td>1033</td>\n",
              "      <td>20.3</td>\n",
              "      <td>1728.5</td>\n",
              "    </tr>\n",
              "    <tr>\n",
              "      <th>3</th>\n",
              "      <td>4524384067</td>\n",
              "      <td>0</td>\n",
              "      <td>43</td>\n",
              "      <td>1</td>\n",
              "      <td>0</td>\n",
              "      <td>4</td>\n",
              "      <td>5</td>\n",
              "      <td>5</td>\n",
              "      <td>1</td>\n",
              "      <td>0</td>\n",
              "      <td>1</td>\n",
              "      <td>0</td>\n",
              "      <td>15157</td>\n",
              "      <td>7.0</td>\n",
              "      <td>17954</td>\n",
              "      <td>201</td>\n",
              "      <td>55</td>\n",
              "      <td>-1321</td>\n",
              "      <td>-7</td>\n",
              "      <td>20.1</td>\n",
              "      <td>1515.7</td>\n",
              "      <td>15</td>\n",
              "      <td>2</td>\n",
              "      <td>1</td>\n",
              "      <td>5</td>\n",
              "      <td>4</td>\n",
              "      <td>10</td>\n",
              "      <td>0</td>\n",
              "      <td>0</td>\n",
              "      <td>0</td>\n",
              "      <td>0</td>\n",
              "      <td>16478</td>\n",
              "      <td>7.0</td>\n",
              "      <td>17961</td>\n",
              "      <td>235</td>\n",
              "      <td>47</td>\n",
              "      <td>1321</td>\n",
              "      <td>7</td>\n",
              "      <td>23.5</td>\n",
              "      <td>1647.8</td>\n",
              "    </tr>\n",
              "    <tr>\n",
              "      <th>4</th>\n",
              "      <td>4436033771</td>\n",
              "      <td>0</td>\n",
              "      <td>75</td>\n",
              "      <td>4</td>\n",
              "      <td>0</td>\n",
              "      <td>6</td>\n",
              "      <td>6</td>\n",
              "      <td>6</td>\n",
              "      <td>0</td>\n",
              "      <td>0</td>\n",
              "      <td>0</td>\n",
              "      <td>0</td>\n",
              "      <td>16400</td>\n",
              "      <td>7.0</td>\n",
              "      <td>18543</td>\n",
              "      <td>210</td>\n",
              "      <td>57</td>\n",
              "      <td>-1004</td>\n",
              "      <td>230</td>\n",
              "      <td>21.0</td>\n",
              "      <td>1640.0</td>\n",
              "      <td>17</td>\n",
              "      <td>2</td>\n",
              "      <td>1</td>\n",
              "      <td>6</td>\n",
              "      <td>6</td>\n",
              "      <td>7</td>\n",
              "      <td>1</td>\n",
              "      <td>1</td>\n",
              "      <td>0</td>\n",
              "      <td>0</td>\n",
              "      <td>17404</td>\n",
              "      <td>7.0</td>\n",
              "      <td>18313</td>\n",
              "      <td>225</td>\n",
              "      <td>67</td>\n",
              "      <td>1004</td>\n",
              "      <td>-230</td>\n",
              "      <td>22.5</td>\n",
              "      <td>1740.4</td>\n",
              "    </tr>\n",
              "    <tr>\n",
              "      <th>...</th>\n",
              "      <td>...</td>\n",
              "      <td>...</td>\n",
              "      <td>...</td>\n",
              "      <td>...</td>\n",
              "      <td>...</td>\n",
              "      <td>...</td>\n",
              "      <td>...</td>\n",
              "      <td>...</td>\n",
              "      <td>...</td>\n",
              "      <td>...</td>\n",
              "      <td>...</td>\n",
              "      <td>...</td>\n",
              "      <td>...</td>\n",
              "      <td>...</td>\n",
              "      <td>...</td>\n",
              "      <td>...</td>\n",
              "      <td>...</td>\n",
              "      <td>...</td>\n",
              "      <td>...</td>\n",
              "      <td>...</td>\n",
              "      <td>...</td>\n",
              "      <td>...</td>\n",
              "      <td>...</td>\n",
              "      <td>...</td>\n",
              "      <td>...</td>\n",
              "      <td>...</td>\n",
              "      <td>...</td>\n",
              "      <td>...</td>\n",
              "      <td>...</td>\n",
              "      <td>...</td>\n",
              "      <td>...</td>\n",
              "      <td>...</td>\n",
              "      <td>...</td>\n",
              "      <td>...</td>\n",
              "      <td>...</td>\n",
              "      <td>...</td>\n",
              "      <td>...</td>\n",
              "      <td>...</td>\n",
              "      <td>...</td>\n",
              "      <td>...</td>\n",
              "    </tr>\n",
              "    <tr>\n",
              "      <th>9874</th>\n",
              "      <td>4527873286</td>\n",
              "      <td>1</td>\n",
              "      <td>17</td>\n",
              "      <td>2</td>\n",
              "      <td>1</td>\n",
              "      <td>7</td>\n",
              "      <td>4</td>\n",
              "      <td>5</td>\n",
              "      <td>1</td>\n",
              "      <td>1</td>\n",
              "      <td>0</td>\n",
              "      <td>0</td>\n",
              "      <td>17765</td>\n",
              "      <td>7.2</td>\n",
              "      <td>18967</td>\n",
              "      <td>211</td>\n",
              "      <td>69</td>\n",
              "      <td>2519</td>\n",
              "      <td>2469</td>\n",
              "      <td>21.1</td>\n",
              "      <td>1776.5</td>\n",
              "      <td>46</td>\n",
              "      <td>3</td>\n",
              "      <td>0</td>\n",
              "      <td>4</td>\n",
              "      <td>7</td>\n",
              "      <td>7</td>\n",
              "      <td>0</td>\n",
              "      <td>0</td>\n",
              "      <td>0</td>\n",
              "      <td>0</td>\n",
              "      <td>15246</td>\n",
              "      <td>6.8</td>\n",
              "      <td>16498</td>\n",
              "      <td>229</td>\n",
              "      <td>34</td>\n",
              "      <td>-2519</td>\n",
              "      <td>-2469</td>\n",
              "      <td>22.9</td>\n",
              "      <td>1524.6</td>\n",
              "    </tr>\n",
              "    <tr>\n",
              "      <th>9875</th>\n",
              "      <td>4527797466</td>\n",
              "      <td>1</td>\n",
              "      <td>54</td>\n",
              "      <td>0</td>\n",
              "      <td>0</td>\n",
              "      <td>6</td>\n",
              "      <td>4</td>\n",
              "      <td>8</td>\n",
              "      <td>1</td>\n",
              "      <td>1</td>\n",
              "      <td>0</td>\n",
              "      <td>0</td>\n",
              "      <td>16238</td>\n",
              "      <td>7.2</td>\n",
              "      <td>19255</td>\n",
              "      <td>233</td>\n",
              "      <td>48</td>\n",
              "      <td>782</td>\n",
              "      <td>888</td>\n",
              "      <td>23.3</td>\n",
              "      <td>1623.8</td>\n",
              "      <td>12</td>\n",
              "      <td>21</td>\n",
              "      <td>1</td>\n",
              "      <td>4</td>\n",
              "      <td>6</td>\n",
              "      <td>3</td>\n",
              "      <td>0</td>\n",
              "      <td>0</td>\n",
              "      <td>0</td>\n",
              "      <td>0</td>\n",
              "      <td>15456</td>\n",
              "      <td>7.0</td>\n",
              "      <td>18367</td>\n",
              "      <td>206</td>\n",
              "      <td>56</td>\n",
              "      <td>-782</td>\n",
              "      <td>-888</td>\n",
              "      <td>20.6</td>\n",
              "      <td>1545.6</td>\n",
              "    </tr>\n",
              "    <tr>\n",
              "      <th>9876</th>\n",
              "      <td>4527713716</td>\n",
              "      <td>0</td>\n",
              "      <td>23</td>\n",
              "      <td>1</td>\n",
              "      <td>0</td>\n",
              "      <td>6</td>\n",
              "      <td>7</td>\n",
              "      <td>5</td>\n",
              "      <td>0</td>\n",
              "      <td>0</td>\n",
              "      <td>0</td>\n",
              "      <td>0</td>\n",
              "      <td>15903</td>\n",
              "      <td>7.0</td>\n",
              "      <td>18032</td>\n",
              "      <td>210</td>\n",
              "      <td>45</td>\n",
              "      <td>-2416</td>\n",
              "      <td>-1877</td>\n",
              "      <td>21.0</td>\n",
              "      <td>1590.3</td>\n",
              "      <td>14</td>\n",
              "      <td>0</td>\n",
              "      <td>1</td>\n",
              "      <td>7</td>\n",
              "      <td>6</td>\n",
              "      <td>11</td>\n",
              "      <td>1</td>\n",
              "      <td>1</td>\n",
              "      <td>0</td>\n",
              "      <td>0</td>\n",
              "      <td>18319</td>\n",
              "      <td>7.4</td>\n",
              "      <td>19909</td>\n",
              "      <td>261</td>\n",
              "      <td>60</td>\n",
              "      <td>2416</td>\n",
              "      <td>1877</td>\n",
              "      <td>26.1</td>\n",
              "      <td>1831.9</td>\n",
              "    </tr>\n",
              "    <tr>\n",
              "      <th>9877</th>\n",
              "      <td>4527628313</td>\n",
              "      <td>0</td>\n",
              "      <td>14</td>\n",
              "      <td>4</td>\n",
              "      <td>1</td>\n",
              "      <td>2</td>\n",
              "      <td>3</td>\n",
              "      <td>3</td>\n",
              "      <td>1</td>\n",
              "      <td>1</td>\n",
              "      <td>0</td>\n",
              "      <td>0</td>\n",
              "      <td>14459</td>\n",
              "      <td>6.6</td>\n",
              "      <td>17229</td>\n",
              "      <td>224</td>\n",
              "      <td>48</td>\n",
              "      <td>-839</td>\n",
              "      <td>-1085</td>\n",
              "      <td>22.4</td>\n",
              "      <td>1445.9</td>\n",
              "      <td>66</td>\n",
              "      <td>4</td>\n",
              "      <td>0</td>\n",
              "      <td>3</td>\n",
              "      <td>2</td>\n",
              "      <td>1</td>\n",
              "      <td>0</td>\n",
              "      <td>0</td>\n",
              "      <td>0</td>\n",
              "      <td>0</td>\n",
              "      <td>15298</td>\n",
              "      <td>7.2</td>\n",
              "      <td>18314</td>\n",
              "      <td>247</td>\n",
              "      <td>40</td>\n",
              "      <td>839</td>\n",
              "      <td>1085</td>\n",
              "      <td>24.7</td>\n",
              "      <td>1529.8</td>\n",
              "    </tr>\n",
              "    <tr>\n",
              "      <th>9878</th>\n",
              "      <td>4523772935</td>\n",
              "      <td>1</td>\n",
              "      <td>18</td>\n",
              "      <td>0</td>\n",
              "      <td>1</td>\n",
              "      <td>6</td>\n",
              "      <td>6</td>\n",
              "      <td>5</td>\n",
              "      <td>0</td>\n",
              "      <td>0</td>\n",
              "      <td>0</td>\n",
              "      <td>0</td>\n",
              "      <td>16266</td>\n",
              "      <td>7.0</td>\n",
              "      <td>17321</td>\n",
              "      <td>207</td>\n",
              "      <td>44</td>\n",
              "      <td>927</td>\n",
              "      <td>-58</td>\n",
              "      <td>20.7</td>\n",
              "      <td>1626.6</td>\n",
              "      <td>9</td>\n",
              "      <td>2</td>\n",
              "      <td>0</td>\n",
              "      <td>6</td>\n",
              "      <td>6</td>\n",
              "      <td>4</td>\n",
              "      <td>1</td>\n",
              "      <td>1</td>\n",
              "      <td>0</td>\n",
              "      <td>0</td>\n",
              "      <td>15339</td>\n",
              "      <td>6.8</td>\n",
              "      <td>17379</td>\n",
              "      <td>201</td>\n",
              "      <td>46</td>\n",
              "      <td>-927</td>\n",
              "      <td>58</td>\n",
              "      <td>20.1</td>\n",
              "      <td>1533.9</td>\n",
              "    </tr>\n",
              "  </tbody>\n",
              "</table>\n",
              "<p>9879 rows × 40 columns</p>\n",
              "</div>"
            ],
            "text/plain": [
              "          gameId  blueWins  ...  redCSPerMin  redGoldPerMin\n",
              "0     4519157822         0  ...         19.7         1656.7\n",
              "1     4523371949         0  ...         24.0         1762.0\n",
              "2     4521474530         0  ...         20.3         1728.5\n",
              "3     4524384067         0  ...         23.5         1647.8\n",
              "4     4436033771         0  ...         22.5         1740.4\n",
              "...          ...       ...  ...          ...            ...\n",
              "9874  4527873286         1  ...         22.9         1524.6\n",
              "9875  4527797466         1  ...         20.6         1545.6\n",
              "9876  4527713716         0  ...         26.1         1831.9\n",
              "9877  4527628313         0  ...         24.7         1529.8\n",
              "9878  4523772935         1  ...         20.1         1533.9\n",
              "\n",
              "[9879 rows x 40 columns]"
            ]
          },
          "metadata": {
            "tags": []
          },
          "execution_count": 7
        }
      ]
    },
    {
      "cell_type": "code",
      "metadata": {
        "colab": {
          "base_uri": "https://localhost:8080/"
        },
        "id": "tac3INVamz1q",
        "outputId": "2ad43dbe-d880-4f48-92c7-d9009b026f30"
      },
      "source": [
        "df.info()"
      ],
      "execution_count": 8,
      "outputs": [
        {
          "output_type": "stream",
          "text": [
            "<class 'pandas.core.frame.DataFrame'>\n",
            "RangeIndex: 9879 entries, 0 to 9878\n",
            "Data columns (total 40 columns):\n",
            " #   Column                        Non-Null Count  Dtype  \n",
            "---  ------                        --------------  -----  \n",
            " 0   gameId                        9879 non-null   int64  \n",
            " 1   blueWins                      9879 non-null   int64  \n",
            " 2   blueWardsPlaced               9879 non-null   int64  \n",
            " 3   blueWardsDestroyed            9879 non-null   int64  \n",
            " 4   blueFirstBlood                9879 non-null   int64  \n",
            " 5   blueKills                     9879 non-null   int64  \n",
            " 6   blueDeaths                    9879 non-null   int64  \n",
            " 7   blueAssists                   9879 non-null   int64  \n",
            " 8   blueEliteMonsters             9879 non-null   int64  \n",
            " 9   blueDragons                   9879 non-null   int64  \n",
            " 10  blueHeralds                   9879 non-null   int64  \n",
            " 11  blueTowersDestroyed           9879 non-null   int64  \n",
            " 12  blueTotalGold                 9879 non-null   int64  \n",
            " 13  blueAvgLevel                  9879 non-null   float64\n",
            " 14  blueTotalExperience           9879 non-null   int64  \n",
            " 15  blueTotalMinionsKilled        9879 non-null   int64  \n",
            " 16  blueTotalJungleMinionsKilled  9879 non-null   int64  \n",
            " 17  blueGoldDiff                  9879 non-null   int64  \n",
            " 18  blueExperienceDiff            9879 non-null   int64  \n",
            " 19  blueCSPerMin                  9879 non-null   float64\n",
            " 20  blueGoldPerMin                9879 non-null   float64\n",
            " 21  redWardsPlaced                9879 non-null   int64  \n",
            " 22  redWardsDestroyed             9879 non-null   int64  \n",
            " 23  redFirstBlood                 9879 non-null   int64  \n",
            " 24  redKills                      9879 non-null   int64  \n",
            " 25  redDeaths                     9879 non-null   int64  \n",
            " 26  redAssists                    9879 non-null   int64  \n",
            " 27  redEliteMonsters              9879 non-null   int64  \n",
            " 28  redDragons                    9879 non-null   int64  \n",
            " 29  redHeralds                    9879 non-null   int64  \n",
            " 30  redTowersDestroyed            9879 non-null   int64  \n",
            " 31  redTotalGold                  9879 non-null   int64  \n",
            " 32  redAvgLevel                   9879 non-null   float64\n",
            " 33  redTotalExperience            9879 non-null   int64  \n",
            " 34  redTotalMinionsKilled         9879 non-null   int64  \n",
            " 35  redTotalJungleMinionsKilled   9879 non-null   int64  \n",
            " 36  redGoldDiff                   9879 non-null   int64  \n",
            " 37  redExperienceDiff             9879 non-null   int64  \n",
            " 38  redCSPerMin                   9879 non-null   float64\n",
            " 39  redGoldPerMin                 9879 non-null   float64\n",
            "dtypes: float64(6), int64(34)\n",
            "memory usage: 3.0 MB\n"
          ],
          "name": "stdout"
        }
      ]
    },
    {
      "cell_type": "code",
      "metadata": {
        "id": "kOs41P9Pl7u-",
        "colab": {
          "base_uri": "https://localhost:8080/"
        },
        "outputId": "78f8c242-cec6-476f-fd42-3463d8e231d8"
      },
      "source": [
        "df.isna().sum()"
      ],
      "execution_count": 9,
      "outputs": [
        {
          "output_type": "execute_result",
          "data": {
            "text/plain": [
              "gameId                          0\n",
              "blueWins                        0\n",
              "blueWardsPlaced                 0\n",
              "blueWardsDestroyed              0\n",
              "blueFirstBlood                  0\n",
              "blueKills                       0\n",
              "blueDeaths                      0\n",
              "blueAssists                     0\n",
              "blueEliteMonsters               0\n",
              "blueDragons                     0\n",
              "blueHeralds                     0\n",
              "blueTowersDestroyed             0\n",
              "blueTotalGold                   0\n",
              "blueAvgLevel                    0\n",
              "blueTotalExperience             0\n",
              "blueTotalMinionsKilled          0\n",
              "blueTotalJungleMinionsKilled    0\n",
              "blueGoldDiff                    0\n",
              "blueExperienceDiff              0\n",
              "blueCSPerMin                    0\n",
              "blueGoldPerMin                  0\n",
              "redWardsPlaced                  0\n",
              "redWardsDestroyed               0\n",
              "redFirstBlood                   0\n",
              "redKills                        0\n",
              "redDeaths                       0\n",
              "redAssists                      0\n",
              "redEliteMonsters                0\n",
              "redDragons                      0\n",
              "redHeralds                      0\n",
              "redTowersDestroyed              0\n",
              "redTotalGold                    0\n",
              "redAvgLevel                     0\n",
              "redTotalExperience              0\n",
              "redTotalMinionsKilled           0\n",
              "redTotalJungleMinionsKilled     0\n",
              "redGoldDiff                     0\n",
              "redExperienceDiff               0\n",
              "redCSPerMin                     0\n",
              "redGoldPerMin                   0\n",
              "dtype: int64"
            ]
          },
          "metadata": {
            "tags": []
          },
          "execution_count": 9
        }
      ]
    },
    {
      "cell_type": "code",
      "metadata": {
        "colab": {
          "base_uri": "https://localhost:8080/",
          "height": 745
        },
        "id": "daIZXjqtm_4m",
        "outputId": "80de32c8-ee31-4082-dfdc-7e677755c61d"
      },
      "source": [
        "corr = df.corr()\n",
        "\n",
        "plt.figure(figsize=(10,10))\n",
        "\n",
        "sns.heatmap(corr,\n",
        "            xticklabels=df.columns,\n",
        "            yticklabels=df.columns,\n",
        "            annot=False)"
      ],
      "execution_count": 10,
      "outputs": [
        {
          "output_type": "execute_result",
          "data": {
            "text/plain": [
              "<matplotlib.axes._subplots.AxesSubplot at 0x7f0e67836a58>"
            ]
          },
          "metadata": {
            "tags": []
          },
          "execution_count": 10
        },
        {
          "output_type": "display_data",
          "data": {
            "image/png": "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\n",
            "text/plain": [
              "<Figure size 720x720 with 2 Axes>"
            ]
          },
          "metadata": {
            "tags": [],
            "needs_background": "light"
          }
        }
      ]
    },
    {
      "cell_type": "code",
      "metadata": {
        "id": "mPbHqXKWnosk"
      },
      "source": [
        "corr_list = df[df.columns[1:]].apply(lambda x: x.corr(df['blueWins']))\n",
        "cols=[]\n",
        "# This appends the columns that have a correlation bigger than 0.2, and less than 0.2\n",
        "for col in corr_list.index:\n",
        "    if (corr_list[col]>0.2 or corr_list[col]<-0.2):\n",
        "        cols.append(col)"
      ],
      "execution_count": 11,
      "outputs": []
    },
    {
      "cell_type": "code",
      "metadata": {
        "colab": {
          "base_uri": "https://localhost:8080/"
        },
        "id": "AVslxhPyoYYJ",
        "outputId": "5afc09ba-cceb-406f-dd0a-4b37621a81fc"
      },
      "source": [
        "cols"
      ],
      "execution_count": 12,
      "outputs": [
        {
          "output_type": "execute_result",
          "data": {
            "text/plain": [
              "['blueWins',\n",
              " 'blueFirstBlood',\n",
              " 'blueKills',\n",
              " 'blueDeaths',\n",
              " 'blueAssists',\n",
              " 'blueEliteMonsters',\n",
              " 'blueDragons',\n",
              " 'blueTotalGold',\n",
              " 'blueAvgLevel',\n",
              " 'blueTotalExperience',\n",
              " 'blueTotalMinionsKilled',\n",
              " 'blueGoldDiff',\n",
              " 'blueExperienceDiff',\n",
              " 'blueCSPerMin',\n",
              " 'blueGoldPerMin',\n",
              " 'redFirstBlood',\n",
              " 'redKills',\n",
              " 'redDeaths',\n",
              " 'redAssists',\n",
              " 'redEliteMonsters',\n",
              " 'redDragons',\n",
              " 'redTotalGold',\n",
              " 'redAvgLevel',\n",
              " 'redTotalExperience',\n",
              " 'redTotalMinionsKilled',\n",
              " 'redGoldDiff',\n",
              " 'redExperienceDiff',\n",
              " 'redCSPerMin',\n",
              " 'redGoldPerMin']"
            ]
          },
          "metadata": {
            "tags": []
          },
          "execution_count": 12
        }
      ]
    },
    {
      "cell_type": "code",
      "metadata": {
        "id": "hz1SFAc2pjUV"
      },
      "source": [
        "df_1 = df[['blueWins','blueFirstBlood','blueKills','redKills','blueAssists','redAssists','blueEliteMonsters',\n",
        "             'redEliteMonsters','blueDragons','redDragons','blueTotalExperience','redTotalExperience',\n",
        "             'blueTotalGold','redTotalGold','blueCSPerMin','redCSPerMin']]"
      ],
      "execution_count": 13,
      "outputs": []
    },
    {
      "cell_type": "code",
      "metadata": {
        "id": "E2MXSAHjwFhn"
      },
      "source": [
        "df_2 = df[['blueWins','blueFirstBlood','blueKills','redKills','blueAssists','redAssists','blueEliteMonsters',\n",
        "            'redEliteMonsters','blueDragons','redDragons','blueExperienceDiff','blueGoldDiff','blueCSPerMin',\n",
        "           'redCSPerMin']]"
      ],
      "execution_count": 14,
      "outputs": []
    },
    {
      "cell_type": "code",
      "metadata": {
        "id": "whinttErwn8H"
      },
      "source": [
        "def preprocess_input(df):\n",
        "  df = df.copy()\n",
        "\n",
        "  # Split the values\n",
        "  y = df['blueWins']\n",
        "  X = df.drop('blueWins',axis=1)\n",
        "\n",
        "  # Train test split\n",
        "\n",
        "  X_train,X_test,y_train,y_test = train_test_split(X,y,train_size=0.7,random_state=42)\n",
        "\n",
        "  # Scale the data\n",
        "  scaler = StandardScaler()\n",
        "  scaler.fit(X_train)\n",
        "\n",
        "  X_train = scaler.transform(X_train)\n",
        "  X_test = scaler.transform(X_test)\n",
        "\n",
        "  return X_train,X_test,y_train,y_test"
      ],
      "execution_count": 15,
      "outputs": []
    },
    {
      "cell_type": "code",
      "metadata": {
        "id": "jR2OUXzdznVI"
      },
      "source": [
        "X_train,X_test,y_train,y_test = preprocess_input(df_2)"
      ],
      "execution_count": 16,
      "outputs": []
    },
    {
      "cell_type": "code",
      "metadata": {
        "colab": {
          "base_uri": "https://localhost:8080/"
        },
        "id": "PGUkcUDLzuF7",
        "outputId": "71dc48e0-178a-44ef-8aa4-ae2f4c70ab80"
      },
      "source": [
        "from sklearn.model_selection import train_test_split\n",
        "from sklearn.model_selection import GridSearchCV\n",
        "from sklearn.preprocessing import StandardScaler\n",
        "\n",
        "from sklearn.linear_model import LogisticRegression\n",
        "from sklearn.svm import LinearSVC, SVC\n",
        "from sklearn.tree import DecisionTreeClassifier\n",
        "from sklearn.ensemble import RandomForestClassifier, GradientBoostingClassifier, AdaBoostClassifier\n",
        "\n",
        "models = {\n",
        "    'Logistic Regression': LogisticRegression(max_iter=1000),\n",
        "    'Support Vector Machine (Linear Kernel)': LinearSVC(),\n",
        "    'Support Vector Machine (RBF Kernel)': SVC(),\n",
        "    'Decission Tree': DecisionTreeClassifier(),\n",
        "    'Adaboost': AdaBoostClassifier(),\n",
        "    'Random Forest': RandomForestClassifier(),\n",
        "    'Gradient Boosting Classifier': GradientBoostingClassifier()\n",
        "\n",
        "}\n",
        "\n",
        "for name, model in models.items():\n",
        "  model.fit(X_train,y_train)\n",
        "  print(name + ' trained')"
      ],
      "execution_count": 17,
      "outputs": [
        {
          "output_type": "stream",
          "text": [
            "Logistic Regression trained\n",
            "Support Vector Machine (Linear Kernel) trained\n",
            "Support Vector Machine (RBF Kernel) trained\n",
            "Decission Tree trained\n",
            "Adaboost trained\n",
            "Random Forest trained\n",
            "Gradient Boosting Classifier trained\n"
          ],
          "name": "stdout"
        }
      ]
    },
    {
      "cell_type": "code",
      "metadata": {
        "colab": {
          "base_uri": "https://localhost:8080/"
        },
        "id": "n6aSTKEYzvUZ",
        "outputId": "85859059-1abc-4e09-9138-1fe928695ad9"
      },
      "source": [
        "from sklearn.metrics import accuracy_score, precision_score,recall_score,f1_score\n",
        "\n",
        "scores_list = []\n",
        "for name,model in models.items():\n",
        "  print(f'Accuracy Score for {name}: {accuracy_score(y_test,model.predict(X_test))}')\n",
        "  print(f'Precision Score for {name}: {precision_score(y_test,model.predict(X_test))}')\n",
        "  print(f'Recall Score for {name}: {recall_score(y_test,model.predict(X_test))}')\n",
        "  print(f'F1 Score for {name}: {f1_score(y_test,model.predict(X_test))}')\n",
        "  scores_list.append(\n",
        "        {\n",
        "            'Model': name,\n",
        "            'Accuracy': accuracy_score(y_test,model.predict(X_test)),\n",
        "            'Precision':  precision_score(y_test,model.predict(X_test)),\n",
        "            'Recall': recall_score(y_test,model.predict(X_test)),\n",
        "            'F1-Score': f1_score(y_test,model.predict(X_test))\n",
        "        }\n",
        "    )\n",
        "\n",
        "scores_2 = pd.DataFrame(scores_list)"
      ],
      "execution_count": 18,
      "outputs": [
        {
          "output_type": "stream",
          "text": [
            "Accuracy Score for Logistic Regression: 0.7294197031039136\n",
            "Precision Score for Logistic Regression: 0.732605729877217\n",
            "Recall Score for Logistic Regression: 0.7237196765498652\n",
            "F1 Score for Logistic Regression: 0.7281355932203389\n",
            "Accuracy Score for Support Vector Machine (Linear Kernel): 0.7277327935222672\n",
            "Precision Score for Support Vector Machine (Linear Kernel): 0.730428863172226\n",
            "Recall Score for Support Vector Machine (Linear Kernel): 0.7230458221024259\n",
            "F1 Score for Support Vector Machine (Linear Kernel): 0.7267185912631223\n",
            "Accuracy Score for Support Vector Machine (RBF Kernel): 0.7213225371120108\n",
            "Precision Score for Support Vector Machine (RBF Kernel): 0.7259615384615384\n",
            "Recall Score for Support Vector Machine (RBF Kernel): 0.7122641509433962\n",
            "F1 Score for Support Vector Machine (RBF Kernel): 0.719047619047619\n",
            "Accuracy Score for Decission Tree: 0.6275303643724697\n",
            "Precision Score for Decission Tree: 0.6248357424441524\n",
            "Recall Score for Decission Tree: 0.6408355795148248\n",
            "F1 Score for Decission Tree: 0.6327345309381237\n",
            "Accuracy Score for Adaboost: 0.7243589743589743\n",
            "Precision Score for Adaboost: 0.7304768486523843\n",
            "Recall Score for Adaboost: 0.7122641509433962\n",
            "F1 Score for Adaboost: 0.7212555441828729\n",
            "Accuracy Score for Random Forest: 0.7219973009446694\n",
            "Precision Score for Random Forest: 0.7288488210818308\n",
            "Recall Score for Random Forest: 0.7082210242587601\n",
            "F1 Score for Random Forest: 0.7183868762816131\n",
            "Accuracy Score for Gradient Boosting Classifier: 0.7273954116059379\n",
            "Precision Score for Gradient Boosting Classifier: 0.7299319727891157\n",
            "Recall Score for Gradient Boosting Classifier: 0.7230458221024259\n",
            "F1 Score for Gradient Boosting Classifier: 0.7264725795531481\n"
          ],
          "name": "stdout"
        }
      ]
    },
    {
      "cell_type": "code",
      "metadata": {
        "colab": {
          "base_uri": "https://localhost:8080/",
          "height": 248
        },
        "id": "kbej86cl0cRt",
        "outputId": "c3a1bfef-8f4f-4090-9ae7-9039d8452f05"
      },
      "source": [
        "scores_2"
      ],
      "execution_count": 20,
      "outputs": [
        {
          "output_type": "execute_result",
          "data": {
            "text/html": [
              "<div>\n",
              "<style scoped>\n",
              "    .dataframe tbody tr th:only-of-type {\n",
              "        vertical-align: middle;\n",
              "    }\n",
              "\n",
              "    .dataframe tbody tr th {\n",
              "        vertical-align: top;\n",
              "    }\n",
              "\n",
              "    .dataframe thead th {\n",
              "        text-align: right;\n",
              "    }\n",
              "</style>\n",
              "<table border=\"1\" class=\"dataframe\">\n",
              "  <thead>\n",
              "    <tr style=\"text-align: right;\">\n",
              "      <th></th>\n",
              "      <th>Model</th>\n",
              "      <th>Accuracy</th>\n",
              "      <th>Precision</th>\n",
              "      <th>Recall</th>\n",
              "      <th>F1-Score</th>\n",
              "    </tr>\n",
              "  </thead>\n",
              "  <tbody>\n",
              "    <tr>\n",
              "      <th>0</th>\n",
              "      <td>Logistic Regression</td>\n",
              "      <td>0.729420</td>\n",
              "      <td>0.732606</td>\n",
              "      <td>0.723720</td>\n",
              "      <td>0.728136</td>\n",
              "    </tr>\n",
              "    <tr>\n",
              "      <th>1</th>\n",
              "      <td>Support Vector Machine (Linear Kernel)</td>\n",
              "      <td>0.727733</td>\n",
              "      <td>0.730429</td>\n",
              "      <td>0.723046</td>\n",
              "      <td>0.726719</td>\n",
              "    </tr>\n",
              "    <tr>\n",
              "      <th>2</th>\n",
              "      <td>Support Vector Machine (RBF Kernel)</td>\n",
              "      <td>0.721323</td>\n",
              "      <td>0.725962</td>\n",
              "      <td>0.712264</td>\n",
              "      <td>0.719048</td>\n",
              "    </tr>\n",
              "    <tr>\n",
              "      <th>3</th>\n",
              "      <td>Decission Tree</td>\n",
              "      <td>0.627530</td>\n",
              "      <td>0.624836</td>\n",
              "      <td>0.640836</td>\n",
              "      <td>0.632735</td>\n",
              "    </tr>\n",
              "    <tr>\n",
              "      <th>4</th>\n",
              "      <td>Adaboost</td>\n",
              "      <td>0.724359</td>\n",
              "      <td>0.730477</td>\n",
              "      <td>0.712264</td>\n",
              "      <td>0.721256</td>\n",
              "    </tr>\n",
              "    <tr>\n",
              "      <th>5</th>\n",
              "      <td>Random Forest</td>\n",
              "      <td>0.721997</td>\n",
              "      <td>0.728849</td>\n",
              "      <td>0.708221</td>\n",
              "      <td>0.718387</td>\n",
              "    </tr>\n",
              "    <tr>\n",
              "      <th>6</th>\n",
              "      <td>Gradient Boosting Classifier</td>\n",
              "      <td>0.727395</td>\n",
              "      <td>0.729932</td>\n",
              "      <td>0.723046</td>\n",
              "      <td>0.726473</td>\n",
              "    </tr>\n",
              "  </tbody>\n",
              "</table>\n",
              "</div>"
            ],
            "text/plain": [
              "                                    Model  Accuracy  ...    Recall  F1-Score\n",
              "0                     Logistic Regression  0.729420  ...  0.723720  0.728136\n",
              "1  Support Vector Machine (Linear Kernel)  0.727733  ...  0.723046  0.726719\n",
              "2     Support Vector Machine (RBF Kernel)  0.721323  ...  0.712264  0.719048\n",
              "3                          Decission Tree  0.627530  ...  0.640836  0.632735\n",
              "4                                Adaboost  0.724359  ...  0.712264  0.721256\n",
              "5                           Random Forest  0.721997  ...  0.708221  0.718387\n",
              "6            Gradient Boosting Classifier  0.727395  ...  0.723046  0.726473\n",
              "\n",
              "[7 rows x 5 columns]"
            ]
          },
          "metadata": {
            "tags": []
          },
          "execution_count": 20
        }
      ]
    },
    {
      "cell_type": "code",
      "metadata": {
        "colab": {
          "base_uri": "https://localhost:8080/",
          "height": 248
        },
        "id": "vnRulY1U0eqC",
        "outputId": "0cb851ea-063d-4e00-bf12-2feaf078f2a2"
      },
      "source": [
        "scores_2"
      ],
      "execution_count": 21,
      "outputs": [
        {
          "output_type": "execute_result",
          "data": {
            "text/html": [
              "<div>\n",
              "<style scoped>\n",
              "    .dataframe tbody tr th:only-of-type {\n",
              "        vertical-align: middle;\n",
              "    }\n",
              "\n",
              "    .dataframe tbody tr th {\n",
              "        vertical-align: top;\n",
              "    }\n",
              "\n",
              "    .dataframe thead th {\n",
              "        text-align: right;\n",
              "    }\n",
              "</style>\n",
              "<table border=\"1\" class=\"dataframe\">\n",
              "  <thead>\n",
              "    <tr style=\"text-align: right;\">\n",
              "      <th></th>\n",
              "      <th>Model</th>\n",
              "      <th>Accuracy</th>\n",
              "      <th>Precision</th>\n",
              "      <th>Recall</th>\n",
              "      <th>F1-Score</th>\n",
              "    </tr>\n",
              "  </thead>\n",
              "  <tbody>\n",
              "    <tr>\n",
              "      <th>0</th>\n",
              "      <td>Logistic Regression</td>\n",
              "      <td>0.729420</td>\n",
              "      <td>0.732606</td>\n",
              "      <td>0.723720</td>\n",
              "      <td>0.728136</td>\n",
              "    </tr>\n",
              "    <tr>\n",
              "      <th>1</th>\n",
              "      <td>Support Vector Machine (Linear Kernel)</td>\n",
              "      <td>0.727733</td>\n",
              "      <td>0.730429</td>\n",
              "      <td>0.723046</td>\n",
              "      <td>0.726719</td>\n",
              "    </tr>\n",
              "    <tr>\n",
              "      <th>2</th>\n",
              "      <td>Support Vector Machine (RBF Kernel)</td>\n",
              "      <td>0.721323</td>\n",
              "      <td>0.725962</td>\n",
              "      <td>0.712264</td>\n",
              "      <td>0.719048</td>\n",
              "    </tr>\n",
              "    <tr>\n",
              "      <th>3</th>\n",
              "      <td>Decission Tree</td>\n",
              "      <td>0.627530</td>\n",
              "      <td>0.624836</td>\n",
              "      <td>0.640836</td>\n",
              "      <td>0.632735</td>\n",
              "    </tr>\n",
              "    <tr>\n",
              "      <th>4</th>\n",
              "      <td>Adaboost</td>\n",
              "      <td>0.724359</td>\n",
              "      <td>0.730477</td>\n",
              "      <td>0.712264</td>\n",
              "      <td>0.721256</td>\n",
              "    </tr>\n",
              "    <tr>\n",
              "      <th>5</th>\n",
              "      <td>Random Forest</td>\n",
              "      <td>0.721997</td>\n",
              "      <td>0.728849</td>\n",
              "      <td>0.708221</td>\n",
              "      <td>0.718387</td>\n",
              "    </tr>\n",
              "    <tr>\n",
              "      <th>6</th>\n",
              "      <td>Gradient Boosting Classifier</td>\n",
              "      <td>0.727395</td>\n",
              "      <td>0.729932</td>\n",
              "      <td>0.723046</td>\n",
              "      <td>0.726473</td>\n",
              "    </tr>\n",
              "  </tbody>\n",
              "</table>\n",
              "</div>"
            ],
            "text/plain": [
              "                                    Model  Accuracy  ...    Recall  F1-Score\n",
              "0                     Logistic Regression  0.729420  ...  0.723720  0.728136\n",
              "1  Support Vector Machine (Linear Kernel)  0.727733  ...  0.723046  0.726719\n",
              "2     Support Vector Machine (RBF Kernel)  0.721323  ...  0.712264  0.719048\n",
              "3                          Decission Tree  0.627530  ...  0.640836  0.632735\n",
              "4                                Adaboost  0.724359  ...  0.712264  0.721256\n",
              "5                           Random Forest  0.721997  ...  0.708221  0.718387\n",
              "6            Gradient Boosting Classifier  0.727395  ...  0.723046  0.726473\n",
              "\n",
              "[7 rows x 5 columns]"
            ]
          },
          "metadata": {
            "tags": []
          },
          "execution_count": 21
        }
      ]
    },
    {
      "cell_type": "code",
      "metadata": {
        "id": "8g6UNeFM0kmW"
      },
      "source": [
        "print(scores['F1-Score'].mean())\n",
        "print(scores_2['F1-Score'].mean())"
      ],
      "execution_count": null,
      "outputs": []
    },
    {
      "cell_type": "code",
      "metadata": {
        "colab": {
          "base_uri": "https://localhost:8080/"
        },
        "id": "0GPRIerjGhfL",
        "outputId": "dd935d94-4247-4b3a-a262-2d7d564cac0a"
      },
      "source": [
        "X_train.shape"
      ],
      "execution_count": 23,
      "outputs": [
        {
          "output_type": "execute_result",
          "data": {
            "text/plain": [
              "(6915, 13)"
            ]
          },
          "metadata": {
            "tags": []
          },
          "execution_count": 23
        }
      ]
    },
    {
      "cell_type": "code",
      "metadata": {
        "colab": {
          "base_uri": "https://localhost:8080/"
        },
        "id": "py7TgO3hB2My",
        "outputId": "9917b312-7d93-40af-ec01-0dcedd156470"
      },
      "source": [
        "lr = LogisticRegression()\r\n",
        "lr.fit(X_train,y_train)"
      ],
      "execution_count": 22,
      "outputs": [
        {
          "output_type": "execute_result",
          "data": {
            "text/plain": [
              "LogisticRegression(C=1.0, class_weight=None, dual=False, fit_intercept=True,\n",
              "                   intercept_scaling=1, l1_ratio=None, max_iter=100,\n",
              "                   multi_class='auto', n_jobs=None, penalty='l2',\n",
              "                   random_state=None, solver='lbfgs', tol=0.0001, verbose=0,\n",
              "                   warm_start=False)"
            ]
          },
          "metadata": {
            "tags": []
          },
          "execution_count": 22
        }
      ]
    },
    {
      "cell_type": "code",
      "metadata": {
        "id": "7JTkfH6QB-tS"
      },
      "source": [
        "X_new = [[]]\r\n",
        "X_new = scaler.transform(X_new)\r\n",
        "lr.predict(X_new)"
      ],
      "execution_count": null,
      "outputs": []
    },
    {
      "cell_type": "markdown",
      "metadata": {
        "id": "HpvdKZrDGKve"
      }
      
